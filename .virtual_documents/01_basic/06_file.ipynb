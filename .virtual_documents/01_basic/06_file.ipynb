f = open('test.txt','w',encoding='utf8')


f.write("내용")


f.close()



