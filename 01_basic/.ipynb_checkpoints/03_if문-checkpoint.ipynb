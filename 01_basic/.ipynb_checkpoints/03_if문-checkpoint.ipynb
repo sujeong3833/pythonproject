{
 "cells": [
  {
   "cell_type": "raw",
   "id": "9e042c33-0f2a-4152-9dec-03ad41b00ac4",
   "metadata": {},
   "source": [
    "quiz 1) 주민등록번호를 입력받아서 성별을 출력하세요\n",
    "입력예:123456-1234567 \n",
    "8번째 자리값이 1,3 -> 남자 2,4 -> 여자"
   ]
  },
  {
   "cell_type": "code",
   "execution_count": 3,
   "id": "650dcdb4-d431-4112-9f8a-b1af0f8c9620",
   "metadata": {},
   "outputs": [
    {
     "ename": "SyntaxError",
     "evalue": "expected ':' (1161868540.py, line 1)",
     "output_type": "error",
     "traceback": [
      "\u001b[1;36m  Cell \u001b[1;32mIn[3], line 1\u001b[1;36m\u001b[0m\n\u001b[1;33m    if 123456-1234567\u001b[0m\n\u001b[1;37m                     ^\u001b[0m\n\u001b[1;31mSyntaxError\u001b[0m\u001b[1;31m:\u001b[0m expected ':'\n"
     ]
    }
   ],
   "source": []
  },
  {
   "cell_type": "raw",
   "id": "461903a4-a33c-487d-a669-bb253507165f",
   "metadata": {},
   "source": [
    "quiz 2) 이메일 주소를 입력받아서 @이 있는지 여부를 체크하고\n",
    "있으면 아이디만 출력하고 없으면 @이 없다는 메시지를 출력하세요"
   ]
  },
  {
   "cell_type": "code",
   "execution_count": null,
   "id": "5c279ffa-9f6f-4f3d-91a2-82861accf8e2",
   "metadata": {},
   "outputs": [],
   "source": []
  }
 ],
 "metadata": {
  "kernelspec": {
   "display_name": "Python 3 (ipykernel)",
   "language": "python",
   "name": "python3"
  },
  "language_info": {
   "codemirror_mode": {
    "name": "ipython",
    "version": 3
   },
   "file_extension": ".py",
   "mimetype": "text/x-python",
   "name": "python",
   "nbconvert_exporter": "python",
   "pygments_lexer": "ipython3",
   "version": "3.11.7"
  }
 },
 "nbformat": 4,
 "nbformat_minor": 5
}
