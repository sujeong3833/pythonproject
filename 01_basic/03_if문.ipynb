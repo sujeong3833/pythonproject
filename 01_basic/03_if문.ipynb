{
 "cells": [
  {
   "cell_type": "raw",
   "id": "9e042c33-0f2a-4152-9dec-03ad41b00ac4",
   "metadata": {},
   "source": [
    "quiz 1) 주민등록번호를 입력받아서 성별을 출력하세요\n",
    "입력예:123456-1234567 \n",
    "8번째 자리값이 1,3 -> 남자 2,4 -> 여자"
   ]
  },
  {
   "cell_type": "code",
   "execution_count": 3,
   "id": "650dcdb4-d431-4112-9f8a-b1af0f8c9620",
   "metadata": {},
   "outputs": [
    {
     "name": "stdin",
     "output_type": "stream",
     "text": [
      "주민등록번호를 입력하세요 >>> 001010-4123123\n"
     ]
    },
    {
     "name": "stdout",
     "output_type": "stream",
     "text": [
      "여자\n"
     ]
    }
   ],
   "source": [
    "jumin = input('주민등록번호를 입력하세요 >>>')\n",
    "if jumin[7] in ['1','3']:\n",
    "    print('남성')\n",
    "else: print('여자')"
   ]
  },
  {
   "cell_type": "code",
   "execution_count": 2,
   "id": "da299fd2-fbe1-44d4-9dd0-ac241b8eba9a",
   "metadata": {},
   "outputs": [
    {
     "name": "stdin",
     "output_type": "stream",
     "text": [
      "주민등록번호를 입력하세요 >>> 001010-3123123\n"
     ]
    },
    {
     "name": "stdout",
     "output_type": "stream",
     "text": [
      "남자\n"
     ]
    }
   ],
   "source": [
    "jumin = input('주민등록번호를 입력하세요 >>>')\n",
    "result = \"남자\" if jumin[7] in [\"1\",\"3\"] else \"여자\"\n",
    "print(result)"
   ]
  },
  {
   "cell_type": "raw",
   "id": "461903a4-a33c-487d-a669-bb253507165f",
   "metadata": {},
   "source": [
    "quiz 2) 이메일 주소를 입력받아서 @이 있는지 여부를 체크하고\n",
    "있으면 아이디만 출력하고 없으면 @이 없다는 메시지를 출력하세요"
   ]
  },
  {
   "cell_type": "code",
   "execution_count": 5,
   "id": "5c279ffa-9f6f-4f3d-91a2-82861accf8e2",
   "metadata": {},
   "outputs": [
    {
     "name": "stdin",
     "output_type": "stream",
     "text": [
      "email을 입력하세요 >>> fong.co.kr\n"
     ]
    },
    {
     "name": "stdout",
     "output_type": "stream",
     "text": [
      "@ 형식이 올바르지 않습니다.\n"
     ]
    }
   ],
   "source": [
    "email = input('email을 입력하세요 >>>')\n",
    "if email.count('@') == 1:\n",
    "    print(email[:email.find('@')])\n",
    "else:\n",
    "    print('@ 형식이 올바르지 않습니다.')"
   ]
  },
  {
   "cell_type": "code",
   "execution_count": 7,
   "id": "bd35b15f-270b-490b-b307-6638eadb9075",
   "metadata": {},
   "outputs": [
    {
     "name": "stdin",
     "output_type": "stream",
     "text": [
      "email을 입력하세요 >>> hong@gmail.com\n"
     ]
    },
    {
     "name": "stdout",
     "output_type": "stream",
     "text": [
      "hong\n"
     ]
    }
   ],
   "source": [
    "email = input('email을 입력하세요 >>>')\n",
    "result = email[:email.find('@')] if email.count('@') == 1 else '@형식이 올바르지 않습니다.'\n",
    "print(result)"
   ]
  },
  {
   "cell_type": "code",
   "execution_count": null,
   "id": "ff15edd7-c112-440d-bdb2-c76c75fc5efd",
   "metadata": {},
   "outputs": [],
   "source": []
  }
 ],
 "metadata": {
  "kernelspec": {
   "display_name": "Python 3 (ipykernel)",
   "language": "python",
   "name": "python3"
  },
  "language_info": {
   "codemirror_mode": {
    "name": "ipython",
    "version": 3
   },
   "file_extension": ".py",
   "mimetype": "text/x-python",
   "name": "python",
   "nbconvert_exporter": "python",
   "pygments_lexer": "ipython3",
   "version": "3.11.7"
  }
 },
 "nbformat": 4,
 "nbformat_minor": 5
}
