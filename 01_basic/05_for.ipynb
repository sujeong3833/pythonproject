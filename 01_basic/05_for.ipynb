{
 "cells": [
  {
   "cell_type": "code",
   "execution_count": 1,
   "id": "49e11a58-f30a-45b0-a216-696678c1e0fd",
   "metadata": {},
   "outputs": [
    {
     "name": "stdout",
     "output_type": "stream",
     "text": [
      "one\n",
      "two\n",
      "three\n"
     ]
    }
   ],
   "source": [
    "test_list = ['one','two','three']\n",
    "for item in test_list:\n",
    "    print(item)"
   ]
  },
  {
   "cell_type": "code",
   "execution_count": 3,
   "id": "2e5445ff-8be0-4bd2-90cf-ec7936d981a3",
   "metadata": {},
   "outputs": [
    {
     "name": "stdout",
     "output_type": "stream",
     "text": [
      "1 2\n",
      "3 4\n",
      "5 6\n"
     ]
    }
   ],
   "source": [
    "a = [(1,2),(3,4),(5,6)]\n",
    "for (first,last) in a:\n",
    "    print(first,last)"
   ]
  },
  {
   "cell_type": "code",
   "execution_count": 4,
   "id": "df91e206-1b04-4ea1-9d5e-de712da1fefb",
   "metadata": {},
   "outputs": [
    {
     "data": {
      "text/plain": [
       "range(0, 10)"
      ]
     },
     "execution_count": 4,
     "metadata": {},
     "output_type": "execute_result"
    }
   ],
   "source": [
    "a = range(10)\n",
    "a"
   ]
  },
  {
   "cell_type": "code",
   "execution_count": 6,
   "id": "089720d6-a1a0-4d31-a0f0-f4a777e7f28e",
   "metadata": {},
   "outputs": [
    {
     "name": "stdout",
     "output_type": "stream",
     "text": [
      "1\n",
      "3\n",
      "5\n",
      "7\n",
      "9\n"
     ]
    }
   ],
   "source": [
    "for i in range(1,11,2):\n",
    "    print(i)"
   ]
  },
  {
   "cell_type": "code",
   "execution_count": 14,
   "id": "b54e44cb-c854-4ba3-bdad-290429fb443c",
   "metadata": {
    "collapsed": true,
    "jupyter": {
     "outputs_hidden": true
    },
    "scrolled": true
   },
   "outputs": [
    {
     "name": "stdout",
     "output_type": "stream",
     "text": [
      "-----2단----------\n",
      " 2   *  1   =  2  \n",
      " 2   *  2   =  4  \n",
      " 2   *  3   =  6  \n",
      " 2   *  4   =  8  \n",
      " 2   *  5   =  10 \n",
      " 2   *  6   =  12 \n",
      " 2   *  7   =  14 \n",
      " 2   *  8   =  16 \n",
      " 2   *  9   =  18 \n",
      "\n",
      "-----3단----------\n",
      " 3   *  1   =  3  \n",
      " 3   *  2   =  6  \n",
      " 3   *  3   =  9  \n",
      " 3   *  4   =  12 \n",
      " 3   *  5   =  15 \n",
      " 3   *  6   =  18 \n",
      " 3   *  7   =  21 \n",
      " 3   *  8   =  24 \n",
      " 3   *  9   =  27 \n",
      "\n",
      "-----4단----------\n",
      " 4   *  1   =  4  \n",
      " 4   *  2   =  8  \n",
      " 4   *  3   =  12 \n",
      " 4   *  4   =  16 \n",
      " 4   *  5   =  20 \n",
      " 4   *  6   =  24 \n",
      " 4   *  7   =  28 \n",
      " 4   *  8   =  32 \n",
      " 4   *  9   =  36 \n",
      "\n",
      "-----5단----------\n",
      " 5   *  1   =  5  \n",
      " 5   *  2   =  10 \n",
      " 5   *  3   =  15 \n",
      " 5   *  4   =  20 \n",
      " 5   *  5   =  25 \n",
      " 5   *  6   =  30 \n",
      " 5   *  7   =  35 \n",
      " 5   *  8   =  40 \n",
      " 5   *  9   =  45 \n",
      "\n",
      "-----6단----------\n",
      " 6   *  1   =  6  \n",
      " 6   *  2   =  12 \n",
      " 6   *  3   =  18 \n",
      " 6   *  4   =  24 \n",
      " 6   *  5   =  30 \n",
      " 6   *  6   =  36 \n",
      " 6   *  7   =  42 \n",
      " 6   *  8   =  48 \n",
      " 6   *  9   =  54 \n",
      "\n",
      "-----7단----------\n",
      " 7   *  1   =  7  \n",
      " 7   *  2   =  14 \n",
      " 7   *  3   =  21 \n",
      " 7   *  4   =  28 \n",
      " 7   *  5   =  35 \n",
      " 7   *  6   =  42 \n",
      " 7   *  7   =  49 \n",
      " 7   *  8   =  56 \n",
      " 7   *  9   =  63 \n",
      "\n",
      "-----8단----------\n",
      " 8   *  1   =  8  \n",
      " 8   *  2   =  16 \n",
      " 8   *  3   =  24 \n",
      " 8   *  4   =  32 \n",
      " 8   *  5   =  40 \n",
      " 8   *  6   =  48 \n",
      " 8   *  7   =  56 \n",
      " 8   *  8   =  64 \n",
      " 8   *  9   =  72 \n",
      "\n",
      "-----9단----------\n",
      " 9   *  1   =  9  \n",
      " 9   *  2   =  18 \n",
      " 9   *  3   =  27 \n",
      " 9   *  4   =  36 \n",
      " 9   *  5   =  45 \n",
      " 9   *  6   =  54 \n",
      " 9   *  7   =  63 \n",
      " 9   *  8   =  72 \n",
      " 9   *  9   =  81 \n",
      "\n"
     ]
    }
   ],
   "source": [
    "# 2~9단\n",
    "strl = '-'\n",
    "for i in range(2,10): #단\n",
    "    print(f'{strl*5}{i}단{strl*10}')\n",
    "    for j in range(1,10): #곱하는 수\n",
    "        print(f'{i:^4} * {j:^4} = {i*j:^4}')\n",
    "    print()        "
   ]
  },
  {
   "cell_type": "code",
   "execution_count": 18,
   "id": "2a08a3f5-a557-41a6-a01e-aeacf0fa0b00",
   "metadata": {},
   "outputs": [
    {
     "name": "stdout",
     "output_type": "stream",
     "text": [
      " 2   * 1  =  2  3   * 1  =  3  4   * 1  =  4  5   * 1  =  5  6   * 1  =  6  7   * 1  =  7  8   * 1  =  8  9   * 1  =  9 \n",
      " 2   * 2  =  4  3   * 2  =  6  4   * 2  =  8  5   * 2  = 10  6   * 2  = 12  7   * 2  = 14  8   * 2  = 16  9   * 2  = 18 \n",
      " 2   * 3  =  6  3   * 3  =  9  4   * 3  = 12  5   * 3  = 15  6   * 3  = 18  7   * 3  = 21  8   * 3  = 24  9   * 3  = 27 \n",
      " 2   * 4  =  8  3   * 4  = 12  4   * 4  = 16  5   * 4  = 20  6   * 4  = 24  7   * 4  = 28  8   * 4  = 32  9   * 4  = 36 \n",
      " 2   * 5  = 10  3   * 5  = 15  4   * 5  = 20  5   * 5  = 25  6   * 5  = 30  7   * 5  = 35  8   * 5  = 40  9   * 5  = 45 \n",
      " 2   * 6  = 12  3   * 6  = 18  4   * 6  = 24  5   * 6  = 30  6   * 6  = 36  7   * 6  = 42  8   * 6  = 48  9   * 6  = 54 \n",
      " 2   * 7  = 14  3   * 7  = 21  4   * 7  = 28  5   * 7  = 35  6   * 7  = 42  7   * 7  = 49  8   * 7  = 56  9   * 7  = 63 \n",
      " 2   * 8  = 16  3   * 8  = 24  4   * 8  = 32  5   * 8  = 40  6   * 8  = 48  7   * 8  = 56  8   * 8  = 64  9   * 8  = 72 \n",
      " 2   * 9  = 18  3   * 9  = 27  4   * 9  = 36  5   * 9  = 45  6   * 9  = 54  7   * 9  = 63  8   * 9  = 72  9   * 9  = 81 \n"
     ]
    }
   ],
   "source": [
    "strl = '-'\n",
    "for i in range(1,10): # 곱하는 수\n",
    "    for j in range(2,10): #단\n",
    "        print(f'{j:^4} * {i:^2} = {i*j:>2}',end=\" \")\n",
    "    print()        "
   ]
  },
  {
   "cell_type": "code",
   "execution_count": null,
   "id": "06584b08-9e5b-41e3-919c-fc8c85dfcbb4",
   "metadata": {},
   "outputs": [],
   "source": []
  }
 ],
 "metadata": {
  "kernelspec": {
   "display_name": "Python 3 (ipykernel)",
   "language": "python",
   "name": "python3"
  },
  "language_info": {
   "codemirror_mode": {
    "name": "ipython",
    "version": 3
   },
   "file_extension": ".py",
   "mimetype": "text/x-python",
   "name": "python",
   "nbconvert_exporter": "python",
   "pygments_lexer": "ipython3",
   "version": "3.11.7"
  }
 },
 "nbformat": 4,
 "nbformat_minor": 5
}
