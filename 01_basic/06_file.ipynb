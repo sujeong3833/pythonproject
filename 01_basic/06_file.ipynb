{
 "cells": [
  {
   "cell_type": "code",
   "execution_count": 1,
   "id": "2c7424ad-97f4-49d8-ac03-33d1f3f80498",
   "metadata": {},
   "outputs": [],
   "source": [
    "f = open('test.txt','w',encoding='utf8')"
   ]
  },
  {
   "cell_type": "code",
   "execution_count": 2,
   "id": "d89c3a97-34f5-4f8b-9c06-3338cb458d9d",
   "metadata": {},
   "outputs": [
    {
     "data": {
      "text/plain": [
       "2"
      ]
     },
     "execution_count": 2,
     "metadata": {},
     "output_type": "execute_result"
    }
   ],
   "source": [
    "f.write(\"내용\")"
   ]
  },
  {
   "cell_type": "code",
   "execution_count": 3,
   "id": "c957c7b1-6270-4f82-b40a-d5f4e0f83612",
   "metadata": {},
   "outputs": [],
   "source": [
    "f.close()"
   ]
  },
  {
   "cell_type": "code",
   "execution_count": null,
   "id": "bb8293b6-37c2-4f10-b064-d7048ca1ca26",
   "metadata": {},
   "outputs": [],
   "source": []
  }
 ],
 "metadata": {
  "kernelspec": {
   "display_name": "Python 3 (ipykernel)",
   "language": "python",
   "name": "python3"
  },
  "language_info": {
   "codemirror_mode": {
    "name": "ipython",
    "version": 3
   },
   "file_extension": ".py",
   "mimetype": "text/x-python",
   "name": "python",
   "nbconvert_exporter": "python",
   "pygments_lexer": "ipython3",
   "version": "3.11.7"
  }
 },
 "nbformat": 4,
 "nbformat_minor": 5
}
