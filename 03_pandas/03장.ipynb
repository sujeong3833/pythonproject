{
 "cells": [
  {
   "cell_type": "code",
   "execution_count": 2,
   "id": "bea6cf9f-ba3f-4e1c-9b50-fe1ee738a1d6",
   "metadata": {},
   "outputs": [],
   "source": [
    "import pandas as pd"
   ]
  },
  {
   "cell_type": "code",
   "execution_count": 6,
   "id": "d9823205-332f-49d7-8d34-64771a63f176",
   "metadata": {},
   "outputs": [
    {
     "data": {
      "text/plain": [
       "0    banana\n",
       "1        42\n",
       "dtype: object"
      ]
     },
     "execution_count": 6,
     "metadata": {},
     "output_type": "execute_result"
    }
   ],
   "source": [
    "pd.Series(['banana',42])"
   ]
  },
  {
   "cell_type": "code",
   "execution_count": 8,
   "id": "d8850c1a-17ea-4200-9546-7ad5ebc574cd",
   "metadata": {},
   "outputs": [],
   "source": [
    "df = pd.DataFrame({\"name\":['홍길동','김철수'],\n",
    "             \"Age\":[37,43]})"
   ]
  },
  {
   "cell_type": "code",
   "execution_count": 9,
   "id": "ca6468b7-523c-4c48-a02b-4fd5928ba984",
   "metadata": {},
   "outputs": [
    {
     "data": {
      "text/html": [
       "<div>\n",
       "<style scoped>\n",
       "    .dataframe tbody tr th:only-of-type {\n",
       "        vertical-align: middle;\n",
       "    }\n",
       "\n",
       "    .dataframe tbody tr th {\n",
       "        vertical-align: top;\n",
       "    }\n",
       "\n",
       "    .dataframe thead th {\n",
       "        text-align: right;\n",
       "    }\n",
       "</style>\n",
       "<table border=\"1\" class=\"dataframe\">\n",
       "  <thead>\n",
       "    <tr style=\"text-align: right;\">\n",
       "      <th></th>\n",
       "      <th>name</th>\n",
       "      <th>Age</th>\n",
       "    </tr>\n",
       "  </thead>\n",
       "  <tbody>\n",
       "    <tr>\n",
       "      <th>0</th>\n",
       "      <td>홍길동</td>\n",
       "      <td>37</td>\n",
       "    </tr>\n",
       "    <tr>\n",
       "      <th>1</th>\n",
       "      <td>김철수</td>\n",
       "      <td>43</td>\n",
       "    </tr>\n",
       "  </tbody>\n",
       "</table>\n",
       "</div>"
      ],
      "text/plain": [
       "  name  Age\n",
       "0  홍길동   37\n",
       "1  김철수   43"
      ]
     },
     "execution_count": 9,
     "metadata": {},
     "output_type": "execute_result"
    }
   ],
   "source": [
    "df"
   ]
  },
  {
   "cell_type": "code",
   "execution_count": 10,
   "id": "dbeef499-ccdc-4690-b649-427684b9a9ca",
   "metadata": {},
   "outputs": [
    {
     "data": {
      "text/html": [
       "<div>\n",
       "<style scoped>\n",
       "    .dataframe tbody tr th:only-of-type {\n",
       "        vertical-align: middle;\n",
       "    }\n",
       "\n",
       "    .dataframe tbody tr th {\n",
       "        vertical-align: top;\n",
       "    }\n",
       "\n",
       "    .dataframe thead th {\n",
       "        text-align: right;\n",
       "    }\n",
       "</style>\n",
       "<table border=\"1\" class=\"dataframe\">\n",
       "  <thead>\n",
       "    <tr style=\"text-align: right;\">\n",
       "      <th></th>\n",
       "      <th>0</th>\n",
       "      <th>1</th>\n",
       "    </tr>\n",
       "  </thead>\n",
       "  <tbody>\n",
       "    <tr>\n",
       "      <th>name</th>\n",
       "      <td>홍길동</td>\n",
       "      <td>김철수</td>\n",
       "    </tr>\n",
       "    <tr>\n",
       "      <th>Age</th>\n",
       "      <td>37</td>\n",
       "      <td>43</td>\n",
       "    </tr>\n",
       "  </tbody>\n",
       "</table>\n",
       "</div>"
      ],
      "text/plain": [
       "        0    1\n",
       "name  홍길동  김철수\n",
       "Age    37   43"
      ]
     },
     "execution_count": 10,
     "metadata": {},
     "output_type": "execute_result"
    }
   ],
   "source": [
    "df.T"
   ]
  },
  {
   "cell_type": "code",
   "execution_count": 12,
   "id": "e9534ca4-6674-4e99-acaa-09fbe42cc441",
   "metadata": {},
   "outputs": [],
   "source": [
    "df = pd.read_csv('data/scientists.csv')"
   ]
  },
  {
   "cell_type": "code",
   "execution_count": 14,
   "id": "4a647e68-57ab-433b-bf2c-ab133a44d74d",
   "metadata": {},
   "outputs": [
    {
     "data": {
      "text/html": [
       "<div>\n",
       "<style scoped>\n",
       "    .dataframe tbody tr th:only-of-type {\n",
       "        vertical-align: middle;\n",
       "    }\n",
       "\n",
       "    .dataframe tbody tr th {\n",
       "        vertical-align: top;\n",
       "    }\n",
       "\n",
       "    .dataframe thead th {\n",
       "        text-align: right;\n",
       "    }\n",
       "</style>\n",
       "<table border=\"1\" class=\"dataframe\">\n",
       "  <thead>\n",
       "    <tr style=\"text-align: right;\">\n",
       "      <th></th>\n",
       "      <th>Name</th>\n",
       "      <th>Born</th>\n",
       "      <th>Died</th>\n",
       "      <th>Age</th>\n",
       "      <th>Occupation</th>\n",
       "    </tr>\n",
       "  </thead>\n",
       "  <tbody>\n",
       "    <tr>\n",
       "      <th>0</th>\n",
       "      <td>Rosaline Franklin</td>\n",
       "      <td>1920-07-25</td>\n",
       "      <td>1958-04-16</td>\n",
       "      <td>37</td>\n",
       "      <td>Chemist</td>\n",
       "    </tr>\n",
       "  </tbody>\n",
       "</table>\n",
       "</div>"
      ],
      "text/plain": [
       "                Name        Born        Died  Age Occupation\n",
       "0  Rosaline Franklin  1920-07-25  1958-04-16   37    Chemist"
      ]
     },
     "execution_count": 14,
     "metadata": {},
     "output_type": "execute_result"
    }
   ],
   "source": [
    "df.head(1)"
   ]
  },
  {
   "cell_type": "code",
   "execution_count": 15,
   "id": "60e0f169-93a4-464a-a075-35283947898d",
   "metadata": {},
   "outputs": [
    {
     "name": "stdout",
     "output_type": "stream",
     "text": [
      "<class 'pandas.core.frame.DataFrame'>\n",
      "RangeIndex: 8 entries, 0 to 7\n",
      "Data columns (total 5 columns):\n",
      " #   Column      Non-Null Count  Dtype \n",
      "---  ------      --------------  ----- \n",
      " 0   Name        8 non-null      object\n",
      " 1   Born        8 non-null      object\n",
      " 2   Died        8 non-null      object\n",
      " 3   Age         8 non-null      int64 \n",
      " 4   Occupation  8 non-null      object\n",
      "dtypes: int64(1), object(4)\n",
      "memory usage: 452.0+ bytes\n"
     ]
    }
   ],
   "source": [
    "df.info()"
   ]
  },
  {
   "cell_type": "code",
   "execution_count": 13,
   "id": "0efd4c9f-9a0a-479b-bbdf-2ae36cb5a583",
   "metadata": {},
   "outputs": [
    {
     "data": {
      "text/html": [
       "<div>\n",
       "<style scoped>\n",
       "    .dataframe tbody tr th:only-of-type {\n",
       "        vertical-align: middle;\n",
       "    }\n",
       "\n",
       "    .dataframe tbody tr th {\n",
       "        vertical-align: top;\n",
       "    }\n",
       "\n",
       "    .dataframe thead th {\n",
       "        text-align: right;\n",
       "    }\n",
       "</style>\n",
       "<table border=\"1\" class=\"dataframe\">\n",
       "  <thead>\n",
       "    <tr style=\"text-align: right;\">\n",
       "      <th></th>\n",
       "      <th>Age</th>\n",
       "    </tr>\n",
       "  </thead>\n",
       "  <tbody>\n",
       "    <tr>\n",
       "      <th>count</th>\n",
       "      <td>8.000000</td>\n",
       "    </tr>\n",
       "    <tr>\n",
       "      <th>mean</th>\n",
       "      <td>59.125000</td>\n",
       "    </tr>\n",
       "    <tr>\n",
       "      <th>std</th>\n",
       "      <td>18.325918</td>\n",
       "    </tr>\n",
       "    <tr>\n",
       "      <th>min</th>\n",
       "      <td>37.000000</td>\n",
       "    </tr>\n",
       "    <tr>\n",
       "      <th>25%</th>\n",
       "      <td>44.000000</td>\n",
       "    </tr>\n",
       "    <tr>\n",
       "      <th>50%</th>\n",
       "      <td>58.500000</td>\n",
       "    </tr>\n",
       "    <tr>\n",
       "      <th>75%</th>\n",
       "      <td>68.750000</td>\n",
       "    </tr>\n",
       "    <tr>\n",
       "      <th>max</th>\n",
       "      <td>90.000000</td>\n",
       "    </tr>\n",
       "  </tbody>\n",
       "</table>\n",
       "</div>"
      ],
      "text/plain": [
       "             Age\n",
       "count   8.000000\n",
       "mean   59.125000\n",
       "std    18.325918\n",
       "min    37.000000\n",
       "25%    44.000000\n",
       "50%    58.500000\n",
       "75%    68.750000\n",
       "max    90.000000"
      ]
     },
     "execution_count": 13,
     "metadata": {},
     "output_type": "execute_result"
    }
   ],
   "source": [
    "df.describe()"
   ]
  },
  {
   "cell_type": "code",
   "execution_count": 17,
   "id": "bdde21e7-d0a3-4079-aeb2-9877e036743c",
   "metadata": {},
   "outputs": [
    {
     "data": {
      "text/plain": [
       "Age    59.125\n",
       "dtype: float64"
      ]
     },
     "execution_count": 17,
     "metadata": {},
     "output_type": "execute_result"
    }
   ],
   "source": [
    "df.mean(numeric_only=True)"
   ]
  },
  {
   "cell_type": "code",
   "execution_count": 18,
   "id": "c7f746d5-a53f-46f0-b19a-b68424efd265",
   "metadata": {},
   "outputs": [
    {
     "data": {
      "text/plain": [
       "0    37.0\n",
       "1    61.0\n",
       "2    90.0\n",
       "3    66.0\n",
       "4    56.0\n",
       "5    45.0\n",
       "6    41.0\n",
       "7    77.0\n",
       "dtype: float64"
      ]
     },
     "execution_count": 18,
     "metadata": {},
     "output_type": "execute_result"
    }
   ],
   "source": [
    "df.mean(axis=1,numeric_only=True)"
   ]
  },
  {
   "cell_type": "code",
   "execution_count": 19,
   "id": "3c59ecbc-c2f9-4284-9907-cc30d4df01aa",
   "metadata": {},
   "outputs": [
    {
     "data": {
      "text/plain": [
       "0    37\n",
       "1    61\n",
       "2    90\n",
       "3    66\n",
       "4    56\n",
       "5    45\n",
       "6    41\n",
       "7    77\n",
       "Name: Age, dtype: int64"
      ]
     },
     "execution_count": 19,
     "metadata": {},
     "output_type": "execute_result"
    }
   ],
   "source": [
    "df.Age"
   ]
  },
  {
   "cell_type": "code",
   "execution_count": 22,
   "id": "2d8c851d-2d2b-44f3-bf00-d760250e5ef6",
   "metadata": {},
   "outputs": [
    {
     "data": {
      "text/html": [
       "<div>\n",
       "<style scoped>\n",
       "    .dataframe tbody tr th:only-of-type {\n",
       "        vertical-align: middle;\n",
       "    }\n",
       "\n",
       "    .dataframe tbody tr th {\n",
       "        vertical-align: top;\n",
       "    }\n",
       "\n",
       "    .dataframe thead th {\n",
       "        text-align: right;\n",
       "    }\n",
       "</style>\n",
       "<table border=\"1\" class=\"dataframe\">\n",
       "  <thead>\n",
       "    <tr style=\"text-align: right;\">\n",
       "      <th></th>\n",
       "      <th>Name</th>\n",
       "      <th>Born</th>\n",
       "      <th>Died</th>\n",
       "      <th>Age</th>\n",
       "      <th>Occupation</th>\n",
       "    </tr>\n",
       "  </thead>\n",
       "  <tbody>\n",
       "    <tr>\n",
       "      <th>1</th>\n",
       "      <td>William Gosset</td>\n",
       "      <td>1876-06-13</td>\n",
       "      <td>1937-10-16</td>\n",
       "      <td>61</td>\n",
       "      <td>Statistician</td>\n",
       "    </tr>\n",
       "    <tr>\n",
       "      <th>2</th>\n",
       "      <td>Florence Nightingale</td>\n",
       "      <td>1820-05-12</td>\n",
       "      <td>1910-08-13</td>\n",
       "      <td>90</td>\n",
       "      <td>Nurse</td>\n",
       "    </tr>\n",
       "    <tr>\n",
       "      <th>3</th>\n",
       "      <td>Marie Curie</td>\n",
       "      <td>1867-11-07</td>\n",
       "      <td>1934-07-04</td>\n",
       "      <td>66</td>\n",
       "      <td>Chemist</td>\n",
       "    </tr>\n",
       "    <tr>\n",
       "      <th>7</th>\n",
       "      <td>Johann Gauss</td>\n",
       "      <td>1777-04-30</td>\n",
       "      <td>1855-02-23</td>\n",
       "      <td>77</td>\n",
       "      <td>Mathematician</td>\n",
       "    </tr>\n",
       "  </tbody>\n",
       "</table>\n",
       "</div>"
      ],
      "text/plain": [
       "                   Name        Born        Died  Age     Occupation\n",
       "1        William Gosset  1876-06-13  1937-10-16   61   Statistician\n",
       "2  Florence Nightingale  1820-05-12  1910-08-13   90          Nurse\n",
       "3           Marie Curie  1867-11-07  1934-07-04   66        Chemist\n",
       "7          Johann Gauss  1777-04-30  1855-02-23   77  Mathematician"
      ]
     },
     "execution_count": 22,
     "metadata": {},
     "output_type": "execute_result"
    }
   ],
   "source": [
    "df[df.Age > df.Age.mean()]"
   ]
  },
  {
   "cell_type": "code",
   "execution_count": 23,
   "id": "f70e5ea1-cbcc-485b-8127-302935ad8568",
   "metadata": {},
   "outputs": [
    {
     "data": {
      "text/plain": [
       "0    False\n",
       "1     True\n",
       "2     True\n",
       "3     True\n",
       "4    False\n",
       "5    False\n",
       "6    False\n",
       "7     True\n",
       "Name: Age, dtype: bool"
      ]
     },
     "execution_count": 23,
     "metadata": {},
     "output_type": "execute_result"
    }
   ],
   "source": [
    "df.Age > df.Age.mean()"
   ]
  },
  {
   "cell_type": "code",
   "execution_count": 28,
   "id": "f12fdef5-6f06-4b6a-ba4c-e6490fd1182b",
   "metadata": {},
   "outputs": [
    {
     "data": {
      "text/plain": [
       "(0    37\n",
       " 1    61\n",
       " 2    90\n",
       " 3    66\n",
       " 4    56\n",
       " 5    45\n",
       " 6    41\n",
       " 7    77\n",
       " Name: Age, dtype: int64,\n",
       " 0    47.0\n",
       " 1    81.0\n",
       " 2     NaN\n",
       " 3     NaN\n",
       " 4     NaN\n",
       " 5     NaN\n",
       " 6     NaN\n",
       " 7     NaN\n",
       " dtype: float64)"
      ]
     },
     "execution_count": 28,
     "metadata": {},
     "output_type": "execute_result"
    }
   ],
   "source": [
    "df.Age, df.Age + pd.Series([10,20])"
   ]
  },
  {
   "cell_type": "code",
   "execution_count": 30,
   "id": "a63a5f35-cf36-4eba-b52b-2224fde4def2",
   "metadata": {},
   "outputs": [
    {
     "data": {
      "text/html": [
       "<div>\n",
       "<style scoped>\n",
       "    .dataframe tbody tr th:only-of-type {\n",
       "        vertical-align: middle;\n",
       "    }\n",
       "\n",
       "    .dataframe tbody tr th {\n",
       "        vertical-align: top;\n",
       "    }\n",
       "\n",
       "    .dataframe thead th {\n",
       "        text-align: right;\n",
       "    }\n",
       "</style>\n",
       "<table border=\"1\" class=\"dataframe\">\n",
       "  <thead>\n",
       "    <tr style=\"text-align: right;\">\n",
       "      <th></th>\n",
       "      <th>Name</th>\n",
       "      <th>Born</th>\n",
       "      <th>Died</th>\n",
       "      <th>Age</th>\n",
       "      <th>Occupation</th>\n",
       "    </tr>\n",
       "  </thead>\n",
       "  <tbody>\n",
       "    <tr>\n",
       "      <th>7</th>\n",
       "      <td>Johann Gauss</td>\n",
       "      <td>1777-04-30</td>\n",
       "      <td>1855-02-23</td>\n",
       "      <td>77</td>\n",
       "      <td>Mathematician</td>\n",
       "    </tr>\n",
       "    <tr>\n",
       "      <th>6</th>\n",
       "      <td>Alan Turing</td>\n",
       "      <td>1912-06-23</td>\n",
       "      <td>1954-06-07</td>\n",
       "      <td>41</td>\n",
       "      <td>Computer Scientist</td>\n",
       "    </tr>\n",
       "    <tr>\n",
       "      <th>5</th>\n",
       "      <td>John Snow</td>\n",
       "      <td>1813-03-15</td>\n",
       "      <td>1858-06-16</td>\n",
       "      <td>45</td>\n",
       "      <td>Physician</td>\n",
       "    </tr>\n",
       "    <tr>\n",
       "      <th>4</th>\n",
       "      <td>Rachel Carson</td>\n",
       "      <td>1907-05-27</td>\n",
       "      <td>1964-04-14</td>\n",
       "      <td>56</td>\n",
       "      <td>Biologist</td>\n",
       "    </tr>\n",
       "    <tr>\n",
       "      <th>3</th>\n",
       "      <td>Marie Curie</td>\n",
       "      <td>1867-11-07</td>\n",
       "      <td>1934-07-04</td>\n",
       "      <td>66</td>\n",
       "      <td>Chemist</td>\n",
       "    </tr>\n",
       "    <tr>\n",
       "      <th>2</th>\n",
       "      <td>Florence Nightingale</td>\n",
       "      <td>1820-05-12</td>\n",
       "      <td>1910-08-13</td>\n",
       "      <td>90</td>\n",
       "      <td>Nurse</td>\n",
       "    </tr>\n",
       "    <tr>\n",
       "      <th>1</th>\n",
       "      <td>William Gosset</td>\n",
       "      <td>1876-06-13</td>\n",
       "      <td>1937-10-16</td>\n",
       "      <td>61</td>\n",
       "      <td>Statistician</td>\n",
       "    </tr>\n",
       "    <tr>\n",
       "      <th>0</th>\n",
       "      <td>Rosaline Franklin</td>\n",
       "      <td>1920-07-25</td>\n",
       "      <td>1958-04-16</td>\n",
       "      <td>37</td>\n",
       "      <td>Chemist</td>\n",
       "    </tr>\n",
       "  </tbody>\n",
       "</table>\n",
       "</div>"
      ],
      "text/plain": [
       "                   Name        Born        Died  Age          Occupation\n",
       "7          Johann Gauss  1777-04-30  1855-02-23   77       Mathematician\n",
       "6           Alan Turing  1912-06-23  1954-06-07   41  Computer Scientist\n",
       "5             John Snow  1813-03-15  1858-06-16   45           Physician\n",
       "4         Rachel Carson  1907-05-27  1964-04-14   56           Biologist\n",
       "3           Marie Curie  1867-11-07  1934-07-04   66             Chemist\n",
       "2  Florence Nightingale  1820-05-12  1910-08-13   90               Nurse\n",
       "1        William Gosset  1876-06-13  1937-10-16   61        Statistician\n",
       "0     Rosaline Franklin  1920-07-25  1958-04-16   37             Chemist"
      ]
     },
     "execution_count": 30,
     "metadata": {},
     "output_type": "execute_result"
    }
   ],
   "source": [
    "df.sort_index(ascending=False)"
   ]
  },
  {
   "cell_type": "code",
   "execution_count": 32,
   "id": "18443c81-9ad8-49b6-8dad-0e315077056b",
   "metadata": {},
   "outputs": [],
   "source": [
    "df_sort= df.sort_values('Age')"
   ]
  },
  {
   "cell_type": "code",
   "execution_count": 33,
   "id": "153df279-b959-48b3-9b2e-5e164428abb8",
   "metadata": {},
   "outputs": [
    {
     "data": {
      "text/html": [
       "<div>\n",
       "<style scoped>\n",
       "    .dataframe tbody tr th:only-of-type {\n",
       "        vertical-align: middle;\n",
       "    }\n",
       "\n",
       "    .dataframe tbody tr th {\n",
       "        vertical-align: top;\n",
       "    }\n",
       "\n",
       "    .dataframe thead th {\n",
       "        text-align: right;\n",
       "    }\n",
       "</style>\n",
       "<table border=\"1\" class=\"dataframe\">\n",
       "  <thead>\n",
       "    <tr style=\"text-align: right;\">\n",
       "      <th></th>\n",
       "      <th>Name</th>\n",
       "      <th>Born</th>\n",
       "      <th>Died</th>\n",
       "      <th>Age</th>\n",
       "      <th>Occupation</th>\n",
       "    </tr>\n",
       "  </thead>\n",
       "  <tbody>\n",
       "    <tr>\n",
       "      <th>0</th>\n",
       "      <td>Rosaline Franklin</td>\n",
       "      <td>1920-07-25</td>\n",
       "      <td>1958-04-16</td>\n",
       "      <td>37</td>\n",
       "      <td>Chemist</td>\n",
       "    </tr>\n",
       "    <tr>\n",
       "      <th>6</th>\n",
       "      <td>Alan Turing</td>\n",
       "      <td>1912-06-23</td>\n",
       "      <td>1954-06-07</td>\n",
       "      <td>41</td>\n",
       "      <td>Computer Scientist</td>\n",
       "    </tr>\n",
       "    <tr>\n",
       "      <th>5</th>\n",
       "      <td>John Snow</td>\n",
       "      <td>1813-03-15</td>\n",
       "      <td>1858-06-16</td>\n",
       "      <td>45</td>\n",
       "      <td>Physician</td>\n",
       "    </tr>\n",
       "    <tr>\n",
       "      <th>4</th>\n",
       "      <td>Rachel Carson</td>\n",
       "      <td>1907-05-27</td>\n",
       "      <td>1964-04-14</td>\n",
       "      <td>56</td>\n",
       "      <td>Biologist</td>\n",
       "    </tr>\n",
       "    <tr>\n",
       "      <th>1</th>\n",
       "      <td>William Gosset</td>\n",
       "      <td>1876-06-13</td>\n",
       "      <td>1937-10-16</td>\n",
       "      <td>61</td>\n",
       "      <td>Statistician</td>\n",
       "    </tr>\n",
       "    <tr>\n",
       "      <th>3</th>\n",
       "      <td>Marie Curie</td>\n",
       "      <td>1867-11-07</td>\n",
       "      <td>1934-07-04</td>\n",
       "      <td>66</td>\n",
       "      <td>Chemist</td>\n",
       "    </tr>\n",
       "    <tr>\n",
       "      <th>7</th>\n",
       "      <td>Johann Gauss</td>\n",
       "      <td>1777-04-30</td>\n",
       "      <td>1855-02-23</td>\n",
       "      <td>77</td>\n",
       "      <td>Mathematician</td>\n",
       "    </tr>\n",
       "    <tr>\n",
       "      <th>2</th>\n",
       "      <td>Florence Nightingale</td>\n",
       "      <td>1820-05-12</td>\n",
       "      <td>1910-08-13</td>\n",
       "      <td>90</td>\n",
       "      <td>Nurse</td>\n",
       "    </tr>\n",
       "  </tbody>\n",
       "</table>\n",
       "</div>"
      ],
      "text/plain": [
       "                   Name        Born        Died  Age          Occupation\n",
       "0     Rosaline Franklin  1920-07-25  1958-04-16   37             Chemist\n",
       "6           Alan Turing  1912-06-23  1954-06-07   41  Computer Scientist\n",
       "5             John Snow  1813-03-15  1858-06-16   45           Physician\n",
       "4         Rachel Carson  1907-05-27  1964-04-14   56           Biologist\n",
       "1        William Gosset  1876-06-13  1937-10-16   61        Statistician\n",
       "3           Marie Curie  1867-11-07  1934-07-04   66             Chemist\n",
       "7          Johann Gauss  1777-04-30  1855-02-23   77       Mathematician\n",
       "2  Florence Nightingale  1820-05-12  1910-08-13   90               Nurse"
      ]
     },
     "execution_count": 33,
     "metadata": {},
     "output_type": "execute_result"
    }
   ],
   "source": [
    "df_sort"
   ]
  },
  {
   "cell_type": "code",
   "execution_count": 34,
   "id": "8274dc4d-c29e-4f4c-97ab-756984576ea4",
   "metadata": {},
   "outputs": [
    {
     "data": {
      "text/plain": [
       "(0    37\n",
       " 1    61\n",
       " 2    90\n",
       " 3    66\n",
       " 4    56\n",
       " 5    45\n",
       " 6    41\n",
       " 7    77\n",
       " Name: Age, dtype: int64,\n",
       " 0     74\n",
       " 1    122\n",
       " 2    180\n",
       " 3    132\n",
       " 4    112\n",
       " 5     90\n",
       " 6     82\n",
       " 7    154\n",
       " Name: Age, dtype: int64)"
      ]
     },
     "execution_count": 34,
     "metadata": {},
     "output_type": "execute_result"
    }
   ],
   "source": [
    "df.Age,df_sort.Age + df.Age"
   ]
  },
  {
   "cell_type": "code",
   "execution_count": 35,
   "id": "949a02aa-941e-4e85-b6ac-9818331f08a1",
   "metadata": {},
   "outputs": [
    {
     "name": "stdout",
     "output_type": "stream",
     "text": [
      "<class 'pandas.core.frame.DataFrame'>\n",
      "RangeIndex: 8 entries, 0 to 7\n",
      "Data columns (total 5 columns):\n",
      " #   Column      Non-Null Count  Dtype \n",
      "---  ------      --------------  ----- \n",
      " 0   Name        8 non-null      object\n",
      " 1   Born        8 non-null      object\n",
      " 2   Died        8 non-null      object\n",
      " 3   Age         8 non-null      int64 \n",
      " 4   Occupation  8 non-null      object\n",
      "dtypes: int64(1), object(4)\n",
      "memory usage: 452.0+ bytes\n"
     ]
    }
   ],
   "source": [
    "df.info()"
   ]
  },
  {
   "cell_type": "code",
   "execution_count": 36,
   "id": "64c7dbaa-d454-4374-8600-b26360136177",
   "metadata": {},
   "outputs": [
    {
     "data": {
      "text/html": [
       "<div>\n",
       "<style scoped>\n",
       "    .dataframe tbody tr th:only-of-type {\n",
       "        vertical-align: middle;\n",
       "    }\n",
       "\n",
       "    .dataframe tbody tr th {\n",
       "        vertical-align: top;\n",
       "    }\n",
       "\n",
       "    .dataframe thead th {\n",
       "        text-align: right;\n",
       "    }\n",
       "</style>\n",
       "<table border=\"1\" class=\"dataframe\">\n",
       "  <thead>\n",
       "    <tr style=\"text-align: right;\">\n",
       "      <th></th>\n",
       "      <th>Name</th>\n",
       "      <th>Born</th>\n",
       "      <th>Died</th>\n",
       "      <th>Age</th>\n",
       "      <th>Occupation</th>\n",
       "    </tr>\n",
       "  </thead>\n",
       "  <tbody>\n",
       "    <tr>\n",
       "      <th>0</th>\n",
       "      <td>Rosaline Franklin</td>\n",
       "      <td>1920-07-25</td>\n",
       "      <td>1958-04-16</td>\n",
       "      <td>37</td>\n",
       "      <td>Chemist</td>\n",
       "    </tr>\n",
       "    <tr>\n",
       "      <th>1</th>\n",
       "      <td>William Gosset</td>\n",
       "      <td>1876-06-13</td>\n",
       "      <td>1937-10-16</td>\n",
       "      <td>61</td>\n",
       "      <td>Statistician</td>\n",
       "    </tr>\n",
       "  </tbody>\n",
       "</table>\n",
       "</div>"
      ],
      "text/plain": [
       "                Name        Born        Died  Age    Occupation\n",
       "0  Rosaline Franklin  1920-07-25  1958-04-16   37       Chemist\n",
       "1     William Gosset  1876-06-13  1937-10-16   61  Statistician"
      ]
     },
     "execution_count": 36,
     "metadata": {},
     "output_type": "execute_result"
    }
   ],
   "source": [
    "df.head(2)"
   ]
  },
  {
   "cell_type": "code",
   "execution_count": 40,
   "id": "0d899240-2b21-4fed-b4c0-19bfedc7fc4d",
   "metadata": {},
   "outputs": [],
   "source": [
    "df['born_dt'] = pd.to_datetime(df.Born)"
   ]
  },
  {
   "cell_type": "code",
   "execution_count": 44,
   "id": "095bc1a5-544d-4ac2-b459-aec1b0c05b1f",
   "metadata": {},
   "outputs": [
    {
     "data": {
      "text/plain": [
       "Timestamp('2024-09-12 00:00:00')"
      ]
     },
     "execution_count": 44,
     "metadata": {},
     "output_type": "execute_result"
    }
   ],
   "source": [
    "date = '09-12-24'\n",
    "pd.to_datetime(date,format='%m-%d-%y')"
   ]
  },
  {
   "cell_type": "code",
   "execution_count": 45,
   "id": "54e29f5a-312e-4866-aef2-87925ef7416b",
   "metadata": {},
   "outputs": [
    {
     "name": "stdout",
     "output_type": "stream",
     "text": [
      "<class 'pandas.core.frame.DataFrame'>\n",
      "RangeIndex: 8 entries, 0 to 7\n",
      "Data columns (total 6 columns):\n",
      " #   Column      Non-Null Count  Dtype         \n",
      "---  ------      --------------  -----         \n",
      " 0   Name        8 non-null      object        \n",
      " 1   Born        8 non-null      object        \n",
      " 2   Died        8 non-null      object        \n",
      " 3   Age         8 non-null      int64         \n",
      " 4   Occupation  8 non-null      object        \n",
      " 5   born_dt     8 non-null      datetime64[ns]\n",
      "dtypes: datetime64[ns](1), int64(1), object(4)\n",
      "memory usage: 516.0+ bytes\n"
     ]
    }
   ],
   "source": [
    "df.info()"
   ]
  },
  {
   "cell_type": "code",
   "execution_count": 46,
   "id": "82cc9a53-92f9-417a-b340-0430aaa090ad",
   "metadata": {},
   "outputs": [
    {
     "data": {
      "text/html": [
       "<div>\n",
       "<style scoped>\n",
       "    .dataframe tbody tr th:only-of-type {\n",
       "        vertical-align: middle;\n",
       "    }\n",
       "\n",
       "    .dataframe tbody tr th {\n",
       "        vertical-align: top;\n",
       "    }\n",
       "\n",
       "    .dataframe thead th {\n",
       "        text-align: right;\n",
       "    }\n",
       "</style>\n",
       "<table border=\"1\" class=\"dataframe\">\n",
       "  <thead>\n",
       "    <tr style=\"text-align: right;\">\n",
       "      <th></th>\n",
       "      <th>Name</th>\n",
       "      <th>Born</th>\n",
       "      <th>Died</th>\n",
       "      <th>Age</th>\n",
       "      <th>Occupation</th>\n",
       "      <th>born_dt</th>\n",
       "    </tr>\n",
       "  </thead>\n",
       "  <tbody>\n",
       "    <tr>\n",
       "      <th>0</th>\n",
       "      <td>Rosaline Franklin</td>\n",
       "      <td>1920-07-25</td>\n",
       "      <td>1958-04-16</td>\n",
       "      <td>37</td>\n",
       "      <td>Chemist</td>\n",
       "      <td>1920-07-25</td>\n",
       "    </tr>\n",
       "  </tbody>\n",
       "</table>\n",
       "</div>"
      ],
      "text/plain": [
       "                Name        Born        Died  Age Occupation    born_dt\n",
       "0  Rosaline Franklin  1920-07-25  1958-04-16   37    Chemist 1920-07-25"
      ]
     },
     "execution_count": 46,
     "metadata": {},
     "output_type": "execute_result"
    }
   ],
   "source": [
    "df.head(1)"
   ]
  },
  {
   "cell_type": "code",
   "execution_count": null,
   "id": "6b79d54b-225a-4b8e-803c-d6ec35e14276",
   "metadata": {},
   "outputs": [],
   "source": []
  }
 ],
 "metadata": {
  "kernelspec": {
   "display_name": "Python 3 (ipykernel)",
   "language": "python",
   "name": "python3"
  },
  "language_info": {
   "codemirror_mode": {
    "name": "ipython",
    "version": 3
   },
   "file_extension": ".py",
   "mimetype": "text/x-python",
   "name": "python",
   "nbconvert_exporter": "python",
   "pygments_lexer": "ipython3",
   "version": "3.11.7"
  }
 },
 "nbformat": 4,
 "nbformat_minor": 5
}
