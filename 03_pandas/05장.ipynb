{
 "cells": [
  {
   "cell_type": "code",
   "execution_count": 8,
   "id": "490bffe3-92f3-467b-8bfe-5c0d73957578",
   "metadata": {},
   "outputs": [],
   "source": [
    "import pandas as pd"
   ]
  },
  {
   "cell_type": "code",
   "execution_count": 9,
   "id": "de734196-b38d-4d76-9d0a-1b678c3c12c7",
   "metadata": {},
   "outputs": [],
   "source": [
    "pew_df = pd.read_csv('data/pew.csv')"
   ]
  },
  {
   "cell_type": "code",
   "execution_count": 10,
   "id": "beb60ba4-61c8-4407-854a-c8880145154c",
   "metadata": {},
   "outputs": [
    {
     "data": {
      "text/html": [
       "<div>\n",
       "<style scoped>\n",
       "    .dataframe tbody tr th:only-of-type {\n",
       "        vertical-align: middle;\n",
       "    }\n",
       "\n",
       "    .dataframe tbody tr th {\n",
       "        vertical-align: top;\n",
       "    }\n",
       "\n",
       "    .dataframe thead th {\n",
       "        text-align: right;\n",
       "    }\n",
       "</style>\n",
       "<table border=\"1\" class=\"dataframe\">\n",
       "  <thead>\n",
       "    <tr style=\"text-align: right;\">\n",
       "      <th></th>\n",
       "      <th>religion</th>\n",
       "      <th>&lt;$10k</th>\n",
       "      <th>$10-20k</th>\n",
       "      <th>$20-30k</th>\n",
       "      <th>$30-40k</th>\n",
       "      <th>$40-50k</th>\n",
       "      <th>$50-75k</th>\n",
       "      <th>$75-100k</th>\n",
       "      <th>$100-150k</th>\n",
       "      <th>&gt;150k</th>\n",
       "      <th>Don't know/refused</th>\n",
       "    </tr>\n",
       "  </thead>\n",
       "  <tbody>\n",
       "    <tr>\n",
       "      <th>0</th>\n",
       "      <td>Agnostic</td>\n",
       "      <td>27</td>\n",
       "      <td>34</td>\n",
       "      <td>60</td>\n",
       "      <td>81</td>\n",
       "      <td>76</td>\n",
       "      <td>137</td>\n",
       "      <td>122</td>\n",
       "      <td>109</td>\n",
       "      <td>84</td>\n",
       "      <td>96</td>\n",
       "    </tr>\n",
       "  </tbody>\n",
       "</table>\n",
       "</div>"
      ],
      "text/plain": [
       "   religion  <$10k  $10-20k  $20-30k  $30-40k  $40-50k  $50-75k  $75-100k  \\\n",
       "0  Agnostic     27       34       60       81       76      137       122   \n",
       "\n",
       "   $100-150k  >150k  Don't know/refused  \n",
       "0        109     84                  96  "
      ]
     },
     "execution_count": 10,
     "metadata": {},
     "output_type": "execute_result"
    }
   ],
   "source": [
    "pew_df.head(1)"
   ]
  },
  {
   "cell_type": "code",
   "execution_count": 11,
   "id": "8ee16f7d-c43e-48b2-8fa5-1342da96c759",
   "metadata": {},
   "outputs": [
    {
     "data": {
      "text/html": [
       "<div>\n",
       "<style scoped>\n",
       "    .dataframe tbody tr th:only-of-type {\n",
       "        vertical-align: middle;\n",
       "    }\n",
       "\n",
       "    .dataframe tbody tr th {\n",
       "        vertical-align: top;\n",
       "    }\n",
       "\n",
       "    .dataframe thead th {\n",
       "        text-align: right;\n",
       "    }\n",
       "</style>\n",
       "<table border=\"1\" class=\"dataframe\">\n",
       "  <thead>\n",
       "    <tr style=\"text-align: right;\">\n",
       "      <th></th>\n",
       "      <th>religion</th>\n",
       "      <th>income</th>\n",
       "      <th>count</th>\n",
       "    </tr>\n",
       "  </thead>\n",
       "  <tbody>\n",
       "    <tr>\n",
       "      <th>0</th>\n",
       "      <td>Agnostic</td>\n",
       "      <td>&lt;$10k</td>\n",
       "      <td>27</td>\n",
       "    </tr>\n",
       "    <tr>\n",
       "      <th>1</th>\n",
       "      <td>Atheist</td>\n",
       "      <td>&lt;$10k</td>\n",
       "      <td>12</td>\n",
       "    </tr>\n",
       "    <tr>\n",
       "      <th>2</th>\n",
       "      <td>Buddhist</td>\n",
       "      <td>&lt;$10k</td>\n",
       "      <td>27</td>\n",
       "    </tr>\n",
       "    <tr>\n",
       "      <th>3</th>\n",
       "      <td>Catholic</td>\n",
       "      <td>&lt;$10k</td>\n",
       "      <td>418</td>\n",
       "    </tr>\n",
       "    <tr>\n",
       "      <th>4</th>\n",
       "      <td>Don’t know/refused</td>\n",
       "      <td>&lt;$10k</td>\n",
       "      <td>15</td>\n",
       "    </tr>\n",
       "    <tr>\n",
       "      <th>...</th>\n",
       "      <td>...</td>\n",
       "      <td>...</td>\n",
       "      <td>...</td>\n",
       "    </tr>\n",
       "    <tr>\n",
       "      <th>175</th>\n",
       "      <td>Orthodox</td>\n",
       "      <td>Don't know/refused</td>\n",
       "      <td>73</td>\n",
       "    </tr>\n",
       "    <tr>\n",
       "      <th>176</th>\n",
       "      <td>Other Christian</td>\n",
       "      <td>Don't know/refused</td>\n",
       "      <td>18</td>\n",
       "    </tr>\n",
       "    <tr>\n",
       "      <th>177</th>\n",
       "      <td>Other Faiths</td>\n",
       "      <td>Don't know/refused</td>\n",
       "      <td>71</td>\n",
       "    </tr>\n",
       "    <tr>\n",
       "      <th>178</th>\n",
       "      <td>Other World Religions</td>\n",
       "      <td>Don't know/refused</td>\n",
       "      <td>8</td>\n",
       "    </tr>\n",
       "    <tr>\n",
       "      <th>179</th>\n",
       "      <td>Unaffiliated</td>\n",
       "      <td>Don't know/refused</td>\n",
       "      <td>597</td>\n",
       "    </tr>\n",
       "  </tbody>\n",
       "</table>\n",
       "<p>180 rows × 3 columns</p>\n",
       "</div>"
      ],
      "text/plain": [
       "                  religion              income  count\n",
       "0                 Agnostic               <$10k     27\n",
       "1                  Atheist               <$10k     12\n",
       "2                 Buddhist               <$10k     27\n",
       "3                 Catholic               <$10k    418\n",
       "4       Don’t know/refused               <$10k     15\n",
       "..                     ...                 ...    ...\n",
       "175               Orthodox  Don't know/refused     73\n",
       "176        Other Christian  Don't know/refused     18\n",
       "177           Other Faiths  Don't know/refused     71\n",
       "178  Other World Religions  Don't know/refused      8\n",
       "179           Unaffiliated  Don't know/refused    597\n",
       "\n",
       "[180 rows x 3 columns]"
      ]
     },
     "execution_count": 11,
     "metadata": {},
     "output_type": "execute_result"
    }
   ],
   "source": [
    "pew_df.melt(id_vars=['religion'],var_name=\"income\",value_name=\"count\")"
   ]
  },
  {
   "cell_type": "code",
   "execution_count": 34,
   "id": "38acf9b1-ea87-4a10-92c3-1230dc30cc36",
   "metadata": {},
   "outputs": [],
   "source": [
    "car_df = pd.read_csv('인천광역시_소방장비 현황_20201231.csv',encoding='cp949')"
   ]
  },
  {
   "cell_type": "code",
   "execution_count": 33,
   "id": "64b5bc46-bdf6-4624-98a1-f6c78c43c85f",
   "metadata": {},
   "outputs": [
    {
     "data": {
      "text/plain": [
       "Index(['소방서별(1)', '특수소방차_고가차', '특수소방차_고가차_55m', '특수소방차_고가차_52m',\n",
       "       '특수소방차_고가차_50m', '특수소방차_고가차_46m', '특수소방차_고가차_40m', '특수소방차_고가차_32m',\n",
       "       '특수소방차_굴절차', '특수소방차_굴절차_45m', '특수소방차_굴절차_41m', '특수소방차_굴절차_35m',\n",
       "       '특수소방차_굴절차_27m', '특수소방차_굴절차_18.5m', '특수소방차_방수탑차_22m', '특수소방차_화학차',\n",
       "       '특수소방차_화학차_내폭', '특수소방차_화학차_고성능', '특수소방차_화학차_일반', '특수소방차_배연차',\n",
       "       '특수소방차_구조공작차', '특수소방차_제독차', '특수소방차_화생방차', '특수소방차_조명차·조연차', '특수소방차_구조버스',\n",
       "       '특수소방차_펌프차', '특수소방차_펌프차_대형', '특수소방차_펌프차_중형', '특수소방차_펌프차_소형',\n",
       "       '특수소방차_물탱크차', '특수소방차_구급차', '특수소방차_구급차_승합형', '특수소방차_구급차_화물형',\n",
       "       '특수소방차_지휘차', '특수소방차_재난지원차', '특수소방차_홍보차', '특수소방차_점검차', '특수소방차_순찰차',\n",
       "       '특수소방차_화재조사차', '특수소방차_굴삭기', '특수소방차_견인차', '특수소방차_미분무가스소방차',\n",
       "       '특수소방차_기타(이동체험이동정비)', '행정차_유조차', '행정차_행정차_승용차', '행정차_행정차_승합차',\n",
       "       '행정차_행정차_화물차', '행정차_교육용차', '기타차_이륜차', '기타차_트레일러', '기타차_헬기',\n",
       "       '기타차_소방구조정'],\n",
       "      dtype='object')"
      ]
     },
     "execution_count": 33,
     "metadata": {},
     "output_type": "execute_result"
    }
   ],
   "source": [
    "car_df.columns"
   ]
  },
  {
   "cell_type": "code",
   "execution_count": 20,
   "id": "54322820-a064-433c-89a6-d740bcefa955",
   "metadata": {},
   "outputs": [],
   "source": [
    "car_df_melt = car_df.melt(id_vars='소방서별(1)')"
   ]
  },
  {
   "cell_type": "code",
   "execution_count": 21,
   "id": "6c2a69ad-3d3d-4060-87b9-99f4a4ccf065",
   "metadata": {},
   "outputs": [
    {
     "data": {
      "text/plain": [
       "Index(['소방서별(1)', 'variable', 'value'], dtype='object')"
      ]
     },
     "execution_count": 21,
     "metadata": {},
     "output_type": "execute_result"
    }
   ],
   "source": [
    "car_df_melt.columns"
   ]
  },
  {
   "cell_type": "code",
   "execution_count": 24,
   "id": "db9d3caf-5c8a-4de9-9e07-427ff67ba67a",
   "metadata": {},
   "outputs": [],
   "source": [
    "car_df_melt.rename(columns={\"소방서별(1)\":\"소방서명\",\"variable\": \"차량종류\"},inplace=True)"
   ]
  },
  {
   "cell_type": "code",
   "execution_count": 26,
   "id": "c6e1d01b-ba60-4ed5-a097-865a72618aad",
   "metadata": {},
   "outputs": [
    {
     "data": {
      "text/html": [
       "<div>\n",
       "<style scoped>\n",
       "    .dataframe tbody tr th:only-of-type {\n",
       "        vertical-align: middle;\n",
       "    }\n",
       "\n",
       "    .dataframe tbody tr th {\n",
       "        vertical-align: top;\n",
       "    }\n",
       "\n",
       "    .dataframe thead th {\n",
       "        text-align: right;\n",
       "    }\n",
       "</style>\n",
       "<table border=\"1\" class=\"dataframe\">\n",
       "  <thead>\n",
       "    <tr style=\"text-align: right;\">\n",
       "      <th></th>\n",
       "      <th>소방서명</th>\n",
       "      <th>차량종류</th>\n",
       "      <th>value</th>\n",
       "    </tr>\n",
       "  </thead>\n",
       "  <tbody>\n",
       "    <tr>\n",
       "      <th>0</th>\n",
       "      <td>소방본부</td>\n",
       "      <td>특수소방차_고가차</td>\n",
       "      <td>NaN</td>\n",
       "    </tr>\n",
       "  </tbody>\n",
       "</table>\n",
       "</div>"
      ],
      "text/plain": [
       "   소방서명       차량종류  value\n",
       "0  소방본부  특수소방차_고가차    NaN"
      ]
     },
     "execution_count": 26,
     "metadata": {},
     "output_type": "execute_result"
    }
   ],
   "source": [
    "car_df_melt.head(1)"
   ]
  },
  {
   "cell_type": "code",
   "execution_count": 27,
   "id": "f2a1022f-7df3-40aa-83ce-fbcda1969617",
   "metadata": {},
   "outputs": [],
   "source": [
    "car_df_melt.columns = ['소방서명', '차량종류', '차량대수']"
   ]
  },
  {
   "cell_type": "code",
   "execution_count": 31,
   "id": "183c5694-9e35-4348-90eb-73b4486d2199",
   "metadata": {},
   "outputs": [
    {
     "data": {
      "text/plain": [
       "Index(['소방서명', '차량종류', '차량대수'], dtype='object')"
      ]
     },
     "execution_count": 31,
     "metadata": {},
     "output_type": "execute_result"
    }
   ],
   "source": [
    "car_df_melt.columns"
   ]
  },
  {
   "cell_type": "code",
   "execution_count": 35,
   "id": "5e5eb565-7d5d-4d6d-973d-3b7b6ef2ba98",
   "metadata": {},
   "outputs": [],
   "source": [
    "billboard_df = pd.read_csv('data/billboard.csv')"
   ]
  },
  {
   "cell_type": "code",
   "execution_count": 36,
   "id": "04d7f897-419c-4491-8056-1603f80dcf10",
   "metadata": {},
   "outputs": [
    {
     "data": {
      "text/plain": [
       "Index(['year', 'artist', 'track', 'time', 'date.entered', 'wk1', 'wk2', 'wk3',\n",
       "       'wk4', 'wk5', 'wk6', 'wk7', 'wk8', 'wk9', 'wk10', 'wk11', 'wk12',\n",
       "       'wk13', 'wk14', 'wk15', 'wk16', 'wk17', 'wk18', 'wk19', 'wk20', 'wk21',\n",
       "       'wk22', 'wk23', 'wk24', 'wk25', 'wk26', 'wk27', 'wk28', 'wk29', 'wk30',\n",
       "       'wk31', 'wk32', 'wk33', 'wk34', 'wk35', 'wk36', 'wk37', 'wk38', 'wk39',\n",
       "       'wk40', 'wk41', 'wk42', 'wk43', 'wk44', 'wk45', 'wk46', 'wk47', 'wk48',\n",
       "       'wk49', 'wk50', 'wk51', 'wk52', 'wk53', 'wk54', 'wk55', 'wk56', 'wk57',\n",
       "       'wk58', 'wk59', 'wk60', 'wk61', 'wk62', 'wk63', 'wk64', 'wk65', 'wk66',\n",
       "       'wk67', 'wk68', 'wk69', 'wk70', 'wk71', 'wk72', 'wk73', 'wk74', 'wk75',\n",
       "       'wk76'],\n",
       "      dtype='object')"
      ]
     },
     "execution_count": 36,
     "metadata": {},
     "output_type": "execute_result"
    }
   ],
   "source": [
    "billboard_df.columns"
   ]
  },
  {
   "cell_type": "code",
   "execution_count": 38,
   "id": "546015df-fc2c-4c0a-ab0a-5e13dced6393",
   "metadata": {},
   "outputs": [],
   "source": [
    "billboard_melt = billboard_df.melt(id_vars=['year', 'artist', 'track', 'time', 'date.entered'])"
   ]
  },
  {
   "cell_type": "code",
   "execution_count": 42,
   "id": "cbb14f02-7eeb-41fa-bb8f-11a5b020e954",
   "metadata": {},
   "outputs": [],
   "source": [
    "billboard_melt.columns = ['year', 'artist', 'track', 'time', 'date.entered', 'week', 'rating']"
   ]
  },
  {
   "cell_type": "code",
   "execution_count": 43,
   "id": "dfde0e24-a8ca-4d85-a254-bf16d15d68af",
   "metadata": {},
   "outputs": [
    {
     "data": {
      "text/plain": [
       "Index(['year', 'artist', 'track', 'time', 'date.entered', 'week', 'rating'], dtype='object')"
      ]
     },
     "execution_count": 43,
     "metadata": {},
     "output_type": "execute_result"
    }
   ],
   "source": [
    "billboard_melt.columns"
   ]
  },
  {
   "cell_type": "code",
   "execution_count": null,
   "id": "b6bee9d1-44f5-4dd2-b369-6fffabee94f3",
   "metadata": {},
   "outputs": [],
   "source": []
  }
 ],
 "metadata": {
  "kernelspec": {
   "display_name": "Python 3 (ipykernel)",
   "language": "python",
   "name": "python3"
  },
  "language_info": {
   "codemirror_mode": {
    "name": "ipython",
    "version": 3
   },
   "file_extension": ".py",
   "mimetype": "text/x-python",
   "name": "python",
   "nbconvert_exporter": "python",
   "pygments_lexer": "ipython3",
   "version": "3.11.7"
  }
 },
 "nbformat": 4,
 "nbformat_minor": 5
}
